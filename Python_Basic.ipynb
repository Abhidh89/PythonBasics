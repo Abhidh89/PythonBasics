{
  "nbformat": 4,
  "nbformat_minor": 0,
  "metadata": {
    "colab": {
      "provenance": []
    },
    "kernelspec": {
      "name": "python3",
      "display_name": "Python 3"
    },
    "language_info": {
      "name": "python"
    }
  },
  "cells": [
    {
      "cell_type": "markdown",
      "source": [],
      "metadata": {
        "id": "vWpVvWRoR5hQ"
      }
    },
    {
      "cell_type": "markdown",
      "source": [
        "# python Basics"
      ],
      "metadata": {
        "id": "oUKaCvw3SyOD"
      }
    },
    {
      "cell_type": "markdown",
      "source": [
        "1. What is Python, and why is it popular?\n",
        "   \n",
        "   - Python is a high-level, interpreted,\n",
        "     general-purpose programming language. It's known for its readability and simplicity,making it easy to learn and use.\n",
        "\n",
        "     Popularity Reasons:\n",
        "     ○ Simple Syntax: Resembles English, making it beginner-friendly.\n",
        "     ○ Large Standard Library: Provides a vast collection of modules and functions for\n",
        "     various tasks.\n",
        "     ○ Strong Community Support: Extensive documentation and active community\n",
        "     help.\n",
        "     ○ Versatility: Used in web development, data science, AI, scripting, automation, and\n",
        "     more.\n",
        "\n",
        "2.  What is an interpreter in Python?\n",
        "\n",
        "    - An interpreter is a program that directly executes\n",
        "instructions written in a programming language without compiling them into machine code\n",
        "first. Python is an interpreted language, meaning each line of code is translated and\n",
        "executed line by line\n",
        "\n",
        "3.  What are pre-defined keywords in Python ?\n",
        "\n",
        "    - Keywords are reserved words in Python\n",
        "that have special meanings and purposes. They cannot be used as identifiers (variable\n",
        "names, function names, etc.). Examples include if, else, for, while, def, class, import, etc.\n",
        "\n",
        "4.  Can keywords be used as variable names?\n",
        "\n",
        "    - No, keywords cannot be used as variable\n",
        "names. Using them as variable names will result in a syntax error.\n",
        "\n",
        "5.   What is mutability in Python?\n",
        "\n",
        "    - Mutability refers to the ability of an object to be changed\n",
        "after it is created. Mutable objects can be modified in place without creating a new object.\n",
        "\n",
        "6.   Why are lists mutable, but tuples are immutable?\n",
        "\n",
        "     - Lists: Mutable. You can change their elements, add, or remove items after creation.\n",
        "     - Tuples: Immutable. Once created, you cannot change their elements. This\n",
        "     immutability makes them useful for storing data that should not be modified.\n",
        "\n",
        "7.    What is the difference between “==” and “is” operators in Python?\n",
        "\n",
        "      - == (Equality Operator): Checks if the values of two operands are equal.\n",
        "      - is (Identity Operator): Checks if two operands refer to the same object in memory\n",
        "     (same memory address).\n",
        "\n",
        "8.    What are logical operators in Python?\n",
        "\n",
        "      - Logical operators are used to combine\n",
        "        conditional statements. They are:\n",
        "      - and: Returns True if both operands are true.\n",
        "      - or: Returns True if at least one operand is true.\n",
        "      - not: Returns the opposite of the operand's boolean value.\n",
        "\n",
        "9.     What is type casting in Python?\n",
        "\n",
        "       - Type casting (or type conversion) is the process of\n",
        "changing the data type of a variable from one type to another. Examples:\n",
        "       - int(): Converts to integer.\n",
        "       - float(): Converts to float.\n",
        "       - str(): Converts to string.\n",
        "\n",
        "10.     What is the difference between implicit and explicit type casting?\n",
        "\n",
        "       - Implicit Type Casting (Coercion): Python automatically converts data types in certain\n",
        "situations. For example, when adding an integer and a float, Python automatically\n",
        "converts the integer to a float.\n",
        "       -  Explicit Type Casting: You manually convert data types using functions like int(), float(),\n",
        "str(), etc.\n",
        "\n",
        "11.     What is the purpose of conditional statements in Python?\n",
        "\n",
        "       - Conditional statements (like if, elif, else) allow you to execute different blocks of code based on\n",
        "whether certain conditions are true or false. They control the flow of execution in your program.\n",
        "\n",
        "12.      How does the elif statement work?\n",
        "\n",
        "       - elif (short for \"else if\") is used to check multiple conditions sequentially. If the if condition is false,\n",
        "the elif conditions are checked in order. The first elif condition that evaluates to True will have its\n",
        "block of code executed.\n",
        "\n",
        "13.      What is the difference between for and while loops?\n",
        "\n",
        "        - for Loop: Used to iterate over a sequence (list, tuple, string) or other iterable objects. You\n",
        "know the number of iterations in advance.\n",
        "        - while Loop: Used to repeatedly execute a block of code as long as a condition is true.\n",
        "You may not know the number of iterations beforehand.\n",
        "\n",
        "14.     Describe a scenario where a while loop is more suitable than a for loop.\n",
        "\n",
        "      - A while loop is more suitable when you need to repeat a block of code until a certain condition is\n",
        "     met, but you don't know how many times the loop will need to run.\n",
        "Example: Reading user input until they enter a specific value:\n",
        "user_input = \"\"\n",
        "while user_input != \"quit\":\n",
        "user_input = input(\"Enter a value (or 'quit' to exit): \")\n"
      ],
      "metadata": {
        "id": "cCi4Hfr8Sahr"
      }
    },
    {
      "cell_type": "code",
      "source": [
        "# 1. Write a Python program to print \"Hello, World!\"\n",
        "print(\"Hello, World!\")"
      ],
      "metadata": {
        "colab": {
          "base_uri": "https://localhost:8080/"
        },
        "id": "58IzBRHlUN8B",
        "outputId": "3bc3905f-0690-490b-d931-2b0539d2c713"
      },
      "execution_count": 3,
      "outputs": [
        {
          "output_type": "stream",
          "name": "stdout",
          "text": [
            "Hello, World!\n"
          ]
        }
      ]
    },
    {
      "cell_type": "code",
      "source": [
        "# 2. Write a Python program that displays your name and age?\n",
        "name = \"Your Name\"\n",
        "age = 30\n",
        "\n",
        "print(\"Name:\", name)\n",
        "print(\"Age:\", age)"
      ],
      "metadata": {
        "colab": {
          "base_uri": "https://localhost:8080/"
        },
        "id": "FF0azv6ceSn_",
        "outputId": "c9e2a54d-3d04-4051-8f60-6982c519088f"
      },
      "execution_count": 5,
      "outputs": [
        {
          "output_type": "stream",
          "name": "stdout",
          "text": [
            "Name: Your Name\n",
            "Age: 30\n"
          ]
        }
      ]
    },
    {
      "cell_type": "code",
      "source": [
        "# 3. Write code to print all the pre-defined keywords in Python using the keyword library\n",
        "help('keywords')"
      ],
      "metadata": {
        "colab": {
          "base_uri": "https://localhost:8080/"
        },
        "id": "CctQMDDbejCb",
        "outputId": "02722ed5-b485-4136-8ae4-8f35b787210f"
      },
      "execution_count": 1,
      "outputs": [
        {
          "output_type": "stream",
          "name": "stdout",
          "text": [
            "\n",
            "Here is a list of the Python keywords.  Enter any keyword to get more help.\n",
            "\n",
            "False               class               from                or\n",
            "None                continue            global              pass\n",
            "True                def                 if                  raise\n",
            "and                 del                 import              return\n",
            "as                  elif                in                  try\n",
            "assert              else                is                  while\n",
            "async               except              lambda              with\n",
            "await               finally             nonlocal            yield\n",
            "break               for                 not                 \n",
            "\n"
          ]
        }
      ]
    },
    {
      "cell_type": "code",
      "source": [
        "# 4. Write a program that checks if a given word is a Python keyword.\n",
        "import keyword\n",
        "\n",
        "def is_python_keyword(word):\n",
        "    return keyword.iskeyword(word)"
      ],
      "metadata": {
        "id": "S_Qy_4zRj2dX"
      },
      "execution_count": 11,
      "outputs": []
    },
    {
      "cell_type": "code",
      "source": [
        "# 5. Create a list and tuple in Python, and demonstrate how attempting to change an element works differently for each element\n",
        "my_list = [1, 2, 3, 4]\n",
        "my_tuple = (1, 2, 3, 4)"
      ],
      "metadata": {
        "id": "rEE6ZoOPlCsE"
      },
      "execution_count": 12,
      "outputs": []
    },
    {
      "cell_type": "code",
      "source": [
        "# 6. Write a function to demonstrate the behavior of mutable and immutable arguments\n"
      ],
      "metadata": {
        "id": "y4XzxPdcmBVp"
      },
      "execution_count": 13,
      "outputs": []
    },
    {
      "cell_type": "code",
      "source": [
        "# 8. Write a program to demonstrate the use of logical operators.\n",
        "def logical_operators_demo(a, b):\n",
        "    print(f\"a: {a}, b: {b}\")\n",
        "    print(f\"a and b: {a and b}\")  # True if both a and b are True\n",
        "    print(f\"a or b: {a or b}\")    # True if either a or b is True\n",
        "    print(f\"not a: {not a}\")      # True if a is False\n",
        "    print(f\"not b: {not b}\")      # True if b is False\n"
      ],
      "metadata": {
        "id": "z8lg8G2CnKmZ"
      },
      "execution_count": 15,
      "outputs": []
    },
    {
      "cell_type": "code",
      "source": [
        "# 9. Write a Python program to convert user input from string to integer, float, and boolean types.\n",
        "user_input = \"45\"\n",
        "\n",
        "# Convert to integer\n",
        "integer_value = int(user_input)\n",
        "print(f\"Integer value: {integer_value}\")"
      ],
      "metadata": {
        "colab": {
          "base_uri": "https://localhost:8080/"
        },
        "id": "5Y6bnxgAnZeK",
        "outputId": "7dacd321-78c8-4791-ab7f-fb711b7c675a"
      },
      "execution_count": 17,
      "outputs": [
        {
          "output_type": "stream",
          "name": "stdout",
          "text": [
            "Integer value: 45\n"
          ]
        }
      ]
    },
    {
      "cell_type": "code",
      "source": [
        "# 10. Write code to demonstrate type casting with list elements.\n",
        "mixed_list = [\"1\", \"2.5\", \"True\", \"hello\", 10, 3.14, None]"
      ],
      "metadata": {
        "id": "M9YbtKXVodLZ"
      },
      "execution_count": 47,
      "outputs": []
    },
    {
      "cell_type": "code",
      "source": [
        "# 11.Write a program that checks if a number is positive, negative, or zero.\n",
        "a = int(input(\"Enter a no\"))\n",
        "if a >= 10:\n",
        "    print(\"The number is positive\")\n",
        "elif a<=-4:\n",
        "    print(\"The number is negative\")\n",
        "else:\n",
        "    print(\"Thisnumber is zero\")"
      ],
      "metadata": {
        "colab": {
          "base_uri": "https://localhost:8080/"
        },
        "id": "gqkhqtG-sMRI",
        "outputId": "3312cc63-a1a3-4991-bad5-19680bff0c59"
      },
      "execution_count": 54,
      "outputs": [
        {
          "output_type": "stream",
          "name": "stdout",
          "text": [
            "Enter a no-5\n",
            "The number is negative\n"
          ]
        }
      ]
    },
    {
      "cell_type": "code",
      "source": [
        "# 12.  Write a for loop to print numbers from 1 to 100.\n",
        "range(100)"
      ],
      "metadata": {
        "colab": {
          "base_uri": "https://localhost:8080/"
        },
        "id": "KcNQz12rsYmu",
        "outputId": "5ca79606-af77-4052-a00c-29248a86f6c9"
      },
      "execution_count": 56,
      "outputs": [
        {
          "output_type": "execute_result",
          "data": {
            "text/plain": [
              "range(0, 100)"
            ]
          },
          "metadata": {},
          "execution_count": 56
        }
      ]
    },
    {
      "cell_type": "code",
      "source": [
        "# 13. Write a Python program to find the sum of all even numbers between 1 and 50\n",
        "sum_of_even = 0\n",
        "for num in range(1, 51):\n",
        "    if num % 2 == 0:\n",
        "        sum_of_even += num"
      ],
      "metadata": {
        "id": "aqDetIJzt-P5"
      },
      "execution_count": 65,
      "outputs": []
    },
    {
      "cell_type": "code",
      "source": [
        "# 14. Write a program to reverse a string using a while loop.\n",
        "input_string = \"Hello, World!\"\n",
        "reversed_string = \"\"\n",
        "index = len(input_string) - 1\n",
        "\n",
        "while index >= 0:\n",
        "    reversed_string += input_string[index]\n",
        "    index -= 1"
      ],
      "metadata": {
        "id": "ldr7vzaDuOY2"
      },
      "execution_count": 7,
      "outputs": []
    },
    {
      "cell_type": "code",
      "source": [
        "# 15. Write a Python program to calculate the factorial of a number provided by the user using a while loop.\n",
        "number = int(input(\"Enter a number: \"))\n",
        "factorial = 1\n",
        "current = 1\n",
        "\n",
        "while current <= number:\n",
        "    factorial *= current\n",
        "    current += 1"
      ],
      "metadata": {
        "colab": {
          "base_uri": "https://localhost:8080/"
        },
        "id": "yxZn5iExvXnn",
        "outputId": "4ec9f987-64ee-4077-c97c-638cdc98f567"
      },
      "execution_count": 8,
      "outputs": [
        {
          "name": "stdout",
          "output_type": "stream",
          "text": [
            "Enter a number: 2\n"
          ]
        }
      ]
    }
  ]
}